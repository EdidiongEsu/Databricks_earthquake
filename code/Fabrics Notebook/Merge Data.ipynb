{
 "cells": [
  {
   "cell_type": "code",
   "execution_count": 20,
   "id": "4d866e0d-807a-40ad-8660-4afd2726b90b",
   "metadata": {
    "microsoft": {
     "language": "python",
     "language_group": "synapse_pyspark"
    }
   },
   "outputs": [
    {
     "data": {
      "application/vnd.livy.statement-meta+json": {
       "execution_finish_time": "2025-07-02T05:09:24.2790271Z",
       "execution_start_time": "2025-07-02T05:09:23.9483845Z",
       "livy_statement_state": "available",
       "normalized_state": "finished",
       "parent_msg_id": "94782a16-5c1d-4956-abc6-cab8b4e959ba",
       "queued_time": "2025-07-02T05:09:23.9471999Z",
       "session_id": "1412a0d9-5808-4047-b8cc-d4fdf0c3c809",
       "session_start_time": null,
       "spark_pool": null,
       "state": "finished",
       "statement_id": 24,
       "statement_ids": [
        24
       ]
      },
      "text/plain": [
       "StatementMeta(, 1412a0d9-5808-4047-b8cc-d4fdf0c3c809, 24, Finished, Available, Finished)"
      ]
     },
     "metadata": {},
     "output_type": "display_data"
    }
   ],
   "source": [
    "import pycountry\n",
    "\n",
    "from pyspark.sql.functions import udf\n",
    "from pyspark.sql.types import StringType"
   ]
  },
  {
   "cell_type": "code",
   "execution_count": 21,
   "id": "f7111ae5-5dec-4751-8efa-b4a7fa2a3357",
   "metadata": {
    "microsoft": {
     "language": "python",
     "language_group": "synapse_pyspark"
    }
   },
   "outputs": [
    {
     "data": {
      "application/vnd.livy.statement-meta+json": {
       "execution_finish_time": "2025-07-02T05:09:25.1772227Z",
       "execution_start_time": "2025-07-02T05:09:24.2810864Z",
       "livy_statement_state": "available",
       "normalized_state": "finished",
       "parent_msg_id": "78f6921b-a60b-4f31-8762-d45efef6ce28",
       "queued_time": "2025-07-02T05:09:23.9497104Z",
       "session_id": "1412a0d9-5808-4047-b8cc-d4fdf0c3c809",
       "session_start_time": null,
       "spark_pool": null,
       "state": "finished",
       "statement_id": 25,
       "statement_ids": [
        25
       ]
      },
      "text/plain": [
       "StatementMeta(, 1412a0d9-5808-4047-b8cc-d4fdf0c3c809, 25, Finished, Available, Finished)"
      ]
     },
     "metadata": {},
     "output_type": "display_data"
    }
   ],
   "source": [
    "df = spark.read.parquet(\"Files/gold/earthquake_events_gold/\")"
   ]
  },
  {
   "cell_type": "code",
   "execution_count": null,
   "id": "48b83375-5794-4423-8173-b4b77564823f",
   "metadata": {
    "microsoft": {
     "language": "python",
     "language_group": "synapse_pyspark"
    }
   },
   "outputs": [
    {
     "data": {
      "application/vnd.livy.statement-meta+json": {
       "execution_finish_time": "2025-07-02T05:09:25.5295189Z",
       "execution_start_time": "2025-07-02T05:09:25.1793375Z",
       "livy_statement_state": "available",
       "normalized_state": "finished",
       "parent_msg_id": "39063a92-a4fa-402e-a3f2-5425d7069c08",
       "queued_time": "2025-07-02T05:09:23.9519871Z",
       "session_id": "1412a0d9-5808-4047-b8cc-d4fdf0c3c809",
       "session_start_time": null,
       "spark_pool": null,
       "state": "finished",
       "statement_id": 26,
       "statement_ids": [
        26
       ]
      },
      "text/plain": [
       "StatementMeta(, 1412a0d9-5808-4047-b8cc-d4fdf0c3c809, 26, Finished, Available, Finished)"
      ]
     },
     "metadata": {},
     "output_type": "display_data"
    }
   ],
   "source": [
    "manual_overrides = {\n",
    "    \"PR\": \"Puerto Rico\",\n",
    "    \"HK\": \"Hong Kong\",  # sometimes omitted depending on pycountry version\n",
    "    \"MO\": \"Macau\",\n",
    "    \"TW\": \"Taiwan\",  # depending on version/config\n",
    "    \"XK\": \"Kosovo\",\n",
    "    \"GG\": \"Guernsey\",\n",
    "    \"JE\": \"Jersey\",\n",
    "    \"IM\": \"Isle of Man\",\n",
    "    \"PS\": \"Palestine\",\n",
    "    \"SS\": \"South Sudan\",  # sometimes missing in older pycountry\n",
    "    \"AQ\": \"Antarctica\",  # rare\n",
    "    \"ZZ\": \"Unknown or Invalid\"\n",
    "}"
   ]
  },
  {
   "cell_type": "code",
   "execution_count": 23,
   "id": "9976a480-5382-4ebf-86a3-e68db0266bc1",
   "metadata": {
    "microsoft": {
     "language": "python",
     "language_group": "synapse_pyspark"
    }
   },
   "outputs": [
    {
     "data": {
      "application/vnd.livy.statement-meta+json": {
       "execution_finish_time": "2025-07-02T05:09:25.909821Z",
       "execution_start_time": "2025-07-02T05:09:25.5315183Z",
       "livy_statement_state": "available",
       "normalized_state": "finished",
       "parent_msg_id": "acc41889-362d-4a92-a6ba-eb1c08599ef5",
       "queued_time": "2025-07-02T05:09:23.9540535Z",
       "session_id": "1412a0d9-5808-4047-b8cc-d4fdf0c3c809",
       "session_start_time": null,
       "spark_pool": null,
       "state": "finished",
       "statement_id": 27,
       "statement_ids": [
        27
       ]
      },
      "text/plain": [
       "StatementMeta(, 1412a0d9-5808-4047-b8cc-d4fdf0c3c809, 27, Finished, Available, Finished)"
      ]
     },
     "metadata": {},
     "output_type": "display_data"
    }
   ],
   "source": [
    "# Define UDF\n",
    "def get_country_name(code):\n",
    "    if code is None:\n",
    "        return None\n",
    "    code = code.upper()\n",
    "    if code in manual_overrides:\n",
    "        return manual_overrides[code]\n",
    "    try:\n",
    "        country = pycountry.countries.get(alpha_2=code)\n",
    "        return country.name if country else code\n",
    "    except:\n",
    "        return code"
   ]
  },
  {
   "cell_type": "code",
   "execution_count": 24,
   "id": "ad6cfecf-96d7-4078-8265-b3c74414df7c",
   "metadata": {
    "microsoft": {
     "language": "python",
     "language_group": "synapse_pyspark"
    }
   },
   "outputs": [
    {
     "data": {
      "application/vnd.livy.statement-meta+json": {
       "execution_finish_time": "2025-07-02T05:09:26.2489101Z",
       "execution_start_time": "2025-07-02T05:09:25.9117188Z",
       "livy_statement_state": "available",
       "normalized_state": "finished",
       "parent_msg_id": "1c0381c8-0507-47a8-9fcc-db81e10d4f35",
       "queued_time": "2025-07-02T05:09:23.9560834Z",
       "session_id": "1412a0d9-5808-4047-b8cc-d4fdf0c3c809",
       "session_start_time": null,
       "spark_pool": null,
       "state": "finished",
       "statement_id": 28,
       "statement_ids": [
        28
       ]
      },
      "text/plain": [
       "StatementMeta(, 1412a0d9-5808-4047-b8cc-d4fdf0c3c809, 28, Finished, Available, Finished)"
      ]
     },
     "metadata": {},
     "output_type": "display_data"
    }
   ],
   "source": [
    "# Register as UDF\n",
    "get_country_name_udf = udf(get_country_name, StringType())\n",
    "\n",
    "# Apply UDF to Spark DataFrame\n",
    "df = df.withColumn(\"country_name\", get_country_name_udf(df[\"country_code\"]))"
   ]
  },
  {
   "cell_type": "code",
   "execution_count": 25,
   "id": "8425cb5d-2f70-46de-b26d-e60f7cd334b5",
   "metadata": {
    "microsoft": {
     "language": "python",
     "language_group": "synapse_pyspark"
    }
   },
   "outputs": [
    {
     "data": {
      "application/vnd.livy.statement-meta+json": {
       "execution_finish_time": "2025-07-02T05:09:26.5952952Z",
       "execution_start_time": "2025-07-02T05:09:26.250643Z",
       "livy_statement_state": "available",
       "normalized_state": "finished",
       "parent_msg_id": "24d21d31-06ff-49d9-81dc-1a6562ab2ffc",
       "queued_time": "2025-07-02T05:09:23.9587829Z",
       "session_id": "1412a0d9-5808-4047-b8cc-d4fdf0c3c809",
       "session_start_time": null,
       "spark_pool": null,
       "state": "finished",
       "statement_id": 29,
       "statement_ids": [
        29
       ]
      },
      "text/plain": [
       "StatementMeta(, 1412a0d9-5808-4047-b8cc-d4fdf0c3c809, 29, Finished, Available, Finished)"
      ]
     },
     "metadata": {},
     "output_type": "display_data"
    }
   ],
   "source": [
    "df_clean = df.dropDuplicates()"
   ]
  },
  {
   "cell_type": "code",
   "execution_count": 27,
   "id": "cb51e83f-814f-4425-a04f-522c8b8865b3",
   "metadata": {
    "microsoft": {
     "language": "python",
     "language_group": "synapse_pyspark"
    }
   },
   "outputs": [
    {
     "data": {
      "application/vnd.livy.statement-meta+json": {
       "execution_finish_time": "2025-07-02T05:11:25.4629242Z",
       "execution_start_time": "2025-07-02T05:11:05.0072901Z",
       "livy_statement_state": "available",
       "normalized_state": "finished",
       "parent_msg_id": "404baecf-be80-4981-98c1-e9ccd06b792b",
       "queued_time": "2025-07-02T05:11:05.0060963Z",
       "session_id": "1412a0d9-5808-4047-b8cc-d4fdf0c3c809",
       "session_start_time": null,
       "spark_pool": null,
       "state": "finished",
       "statement_id": 31,
       "statement_ids": [
        31
       ]
      },
      "text/plain": [
       "StatementMeta(, 1412a0d9-5808-4047-b8cc-d4fdf0c3c809, 31, Finished, Available, Finished)"
      ]
     },
     "metadata": {},
     "output_type": "display_data"
    }
   ],
   "source": [
    "df_clean.write \\\n",
    "    .mode(\"overwrite\") \\\n",
    "    .option(\"overwriteSchema\", \"true\") \\\n",
    "    .saveAsTable(\"Cleaned_earthquake_table\")\n"
   ]
  }
 ],
 "metadata": {
  "dependencies": {
   "environment": {
    "environmentId": "1df5ff00-e5d8-4515-a252-97202d8ca812",
    "workspaceId": "c614a714-a060-4bda-8dab-1829da9d0577"
   },
   "lakehouse": {
    "default_lakehouse": "df558710-9ff7-49a4-bc07-f7042daf170b",
    "default_lakehouse_name": "Earthquake",
    "default_lakehouse_workspace_id": "c614a714-a060-4bda-8dab-1829da9d0577",
    "known_lakehouses": [
     {
      "id": "df558710-9ff7-49a4-bc07-f7042daf170b"
     }
    ]
   }
  },
  "kernel_info": {
   "name": "synapse_pyspark"
  },
  "kernelspec": {
   "display_name": "synapse_pyspark",
   "name": "synapse_pyspark"
  },
  "language_info": {
   "name": "python"
  },
  "microsoft": {
   "language": "python",
   "language_group": "synapse_pyspark",
   "ms_spell_check": {
    "ms_spell_check_language": "en"
   }
  },
  "nteract": {
   "version": "nteract-front-end@1.0.0"
  },
  "spark_compute": {
   "compute_id": "/trident/default",
   "session_options": {
    "conf": {
     "spark.synapse.nbs.session.timeout": "1200000"
    }
   }
  },
  "synapse_widget": {
   "state": {},
   "version": "0.1"
  }
 },
 "nbformat": 4,
 "nbformat_minor": 5
}
